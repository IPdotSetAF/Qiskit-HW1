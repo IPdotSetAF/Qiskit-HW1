{
 "cells": [
  {
   "cell_type": "code",
   "execution_count": null,
   "id": "475745e1",
   "metadata": {},
   "outputs": [],
   "source": [
    "from qiskit import QuantumRegister as qr, ClassicalRegister as cr ,QuantumCircuit as qc, execute, Aer\n",
    "from random import randrange\n",
    "# from qiskit.providers.aer import QasmSimulator\n",
    "# from qiskit.visualization import plot_histogram\n",
    "# import matplotlib.pyplot as plt\n",
    "\n",
    "qreg = qr(2)\n",
    "creg = cr(2)\n",
    "\n",
    "c = qc(qreg, creg)\n",
    "\n",
    "c.h(qreg[0])\n",
    "c.x(qreg[1])\n",
    "c.cx(qreg[0], qreg[1])\n",
    "\n",
    "c.measure(qreg, creg)\n",
    "\n",
    "display(c.draw(output = 'mpl'))\n",
    "\n",
    "job = execute(c,Aer.get_backend('qasm_simulator'),shots = 256)\n",
    "print(job.result().get_counts(c))\n",
    "print('complete')"
   ]
  }
 ],
 "metadata": {
  "kernelspec": {
   "display_name": "Python 3 (ipykernel)",
   "language": "python",
   "name": "python3"
  },
  "language_info": {
   "codemirror_mode": {
    "name": "ipython",
    "version": 3
   },
   "file_extension": ".py",
   "mimetype": "text/x-python",
   "name": "python",
   "nbconvert_exporter": "python",
   "pygments_lexer": "ipython3",
   "version": "3.7.1"
  }
 },
 "nbformat": 4,
 "nbformat_minor": 5
}
